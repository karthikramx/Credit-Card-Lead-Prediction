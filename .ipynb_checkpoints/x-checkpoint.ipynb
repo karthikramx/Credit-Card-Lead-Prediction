{
 "cells": [
  {
   "cell_type": "markdown",
   "metadata": {},
   "source": [
    "### Credit Card Lead Prediction\n",
    "#### Problem Statement\n",
    "- Defining the problem statement\n",
    "- Collecting the data\n",
    "- Exploratory data analysis\n",
    "- Feature engineering\n",
    "- Modelling\n",
    "- Testing"
   ]
  },
  {
   "cell_type": "markdown",
   "metadata": {},
   "source": [
    "#### 1. Defining the problem statement\n",
    "Happy Customer Bank is a mid-sized private bank wants to cross sell its credit cards to its existing customers and is looking for help in identifying customers that could show higher intent towards a recommended credit card."
   ]
  },
  {
   "cell_type": "markdown",
   "metadata": {},
   "source": [
    "#### 2. Collecting the data\n",
    "Using pandas to load train and test csv files\n"
   ]
  },
  {
   "cell_type": "code",
   "execution_count": null,
   "metadata": {},
   "outputs": [],
   "source": [
    "import pandas as pd\n",
    "train = pd.read_csv(\"data/train.csv\")\n",
    "test = pd.read_csv(\"data/test.csv\")"
   ]
  },
  {
   "cell_type": "markdown",
   "metadata": {},
   "source": [
    "#### 3. Exploratory Data Analysis\n",
    "Printing the first five rows of the train data"
   ]
  },
  {
   "cell_type": "code",
   "execution_count": null,
   "metadata": {},
   "outputs": [],
   "source": [
    "train.head()"
   ]
  },
  {
   "cell_type": "code",
   "execution_count": null,
   "metadata": {},
   "outputs": [],
   "source": [
    "test.head()"
   ]
  },
  {
   "cell_type": "markdown",
   "metadata": {},
   "source": [
    "##### Train Set Data Attributes\n",
    "- Variable: Definition : Definition\n",
    "- ID                   : Unique Identifier for a row \t\n",
    "- Gender               : Gender of the Customer \t\n",
    "- Age                  : Age of the Customer (in Years)\n",
    "- Region_Code          : Code of the Region for the customers\n",
    "- Occupation           : Occupation Type for the customer \n",
    "- Channel_Code         : Acquisition Channel Code for the Customer  (Encoded)\n",
    "- Vintage              : Vintage for the Customer (In Months)\n",
    "- Credit_Product       : If the Customer has any active credit product (Home loan,Personal loan, Credit Card etc.)\n",
    "- Avg_Account_Balance  : Average Account Balance for the Customer in last 12 Months              \n",
    "- Is_Active            : If the Customer is Active in last 3 Months\n",
    "- Is_Lead(Target)      : If the Customer is interested for the Credit Card, 0 : Customer is not interested, 1 : Customer is interested"
   ]
  },
  {
   "cell_type": "code",
   "execution_count": null,
   "metadata": {},
   "outputs": [],
   "source": [
    "print(\"train set rows\\t\\t: {}\".format(train.shape[0]))\n",
    "print(\"train set columns\\t: {}\\n\".format(train.shape[1]))\n",
    "print(\"test set rows\\t\\t: {}\".format(test.shape[0]))\n",
    "print(\"test set columns\\t: {}\".format(test.shape[1]))"
   ]
  },
  {
   "cell_type": "code",
   "execution_count": null,
   "metadata": {},
   "outputs": [],
   "source": [
    "train.info()"
   ]
  },
  {
   "cell_type": "code",
   "execution_count": null,
   "metadata": {},
   "outputs": [],
   "source": [
    "test.info()"
   ]
  },
  {
   "cell_type": "code",
   "execution_count": null,
   "metadata": {},
   "outputs": [],
   "source": [
    "train.isnull().sum()"
   ]
  },
  {
   "cell_type": "code",
   "execution_count": null,
   "metadata": {},
   "outputs": [],
   "source": [
    "test.isnull().sum()"
   ]
  },
  {
   "cell_type": "markdown",
   "metadata": {},
   "source": [
    "Both train and test set have NaN values under Credit Product attribute."
   ]
  },
  {
   "cell_type": "code",
   "execution_count": null,
   "metadata": {},
   "outputs": [],
   "source": [
    "import matplotlib.pyplot as plt\n",
    "%matplotlib inline\n",
    "import seaborn as sns\n",
    "sns.set() # setting seaborn default for plots"
   ]
  },
  {
   "cell_type": "code",
   "execution_count": null,
   "metadata": {},
   "outputs": [],
   "source": [
    "def bar_chart(feature):\n",
    "    lead = train[train['Is_Lead']==1][feature].value_counts()\n",
    "    not_lead = train[train['Is_Lead']==0][feature].value_counts()\n",
    "    df = pd.DataFrame([lead,not_lead])\n",
    "    df.index = ['Is a lead','Not a lead']\n",
    "    df.plot(kind='bar',stacked=True, figsize=(10,5))"
   ]
  },
  {
   "cell_type": "code",
   "execution_count": null,
   "metadata": {},
   "outputs": [],
   "source": [
    "bar_chart('Gender')"
   ]
  },
  {
   "cell_type": "markdown",
   "metadata": {},
   "source": [
    "The above chart suggests that genders really doesn't define if someone is not interested in credit cards. Among those who are interested to have credit card there are more men than woman."
   ]
  },
  {
   "cell_type": "code",
   "execution_count": null,
   "metadata": {},
   "outputs": [],
   "source": [
    "bar_chart('Channel_Code')"
   ]
  },
  {
   "cell_type": "code",
   "execution_count": null,
   "metadata": {},
   "outputs": [],
   "source": [
    "bar_chart('Is_Active')"
   ]
  },
  {
   "cell_type": "code",
   "execution_count": null,
   "metadata": {},
   "outputs": [],
   "source": [
    "bar_chart('Credit_Product')"
   ]
  },
  {
   "cell_type": "code",
   "execution_count": null,
   "metadata": {},
   "outputs": [],
   "source": [
    "bar_chart('Occupation')"
   ]
  },
  {
   "cell_type": "markdown",
   "metadata": {},
   "source": [
    "#### 4. Feature Engineering\n",
    "The algorithms in machine learning require a numerical representation of data so that\n",
    "such representations facilitate processing and statistical analysis. \n",
    "\n",
    "The following attributes can be looked upon for feature engineering\n",
    "- Gender *\n",
    "- Age *\n",
    "- Region Code\n",
    "- Occupation *\n",
    "- Channel Code *\n",
    "- Vintage *\n",
    "- Credit Product \n",
    "- Average Account Balance *\n",
    "- Is Active *\n",
    "\n",
    "Since Gender, Occupation, Channel Code, and Is Active attributes have only few dimentions and do not have Nan values, it would be easy to map out their values to numrica values easily."
   ]
  },
  {
   "cell_type": "markdown",
   "metadata": {},
   "source": [
    "#### 4.1 Gender\n",
    "Gender mapping [male:0, female: 1]"
   ]
  },
  {
   "cell_type": "code",
   "execution_count": null,
   "metadata": {},
   "outputs": [],
   "source": [
    "train_test_data = [train, test]"
   ]
  },
  {
   "cell_type": "code",
   "execution_count": null,
   "metadata": {},
   "outputs": [],
   "source": [
    "gender_mapping = {\"Male\": 0, \"Female\": 1}\n",
    "for dataset in train_test_data:\n",
    "    dataset['Gender'] = dataset['Gender'].map(gender_mapping)"
   ]
  },
  {
   "cell_type": "markdown",
   "metadata": {},
   "source": [
    "#### 4.2 Occupation\n",
    "Occupation Mapping [Self Employed: 0, other: 1, Salaried: 2, Entreprenuer: 3]"
   ]
  },
  {
   "cell_type": "code",
   "execution_count": null,
   "metadata": {},
   "outputs": [],
   "source": [
    "occupation_mapping = {\"Self_Employed\": 0, \"Other\": 1, \"Salaried\": 2, \"Entrepreneur\": 3}\n",
    "for dataset in train_test_data:\n",
    "    dataset['Occupation'] = dataset['Occupation'].map(occupation_mapping)"
   ]
  },
  {
   "cell_type": "markdown",
   "metadata": {},
   "source": [
    "#### 4.3 Channel Code\n",
    "Channel code Mapping [X1: 0, X2: 1, X3: 2, X4: 3]"
   ]
  },
  {
   "cell_type": "code",
   "execution_count": null,
   "metadata": {},
   "outputs": [],
   "source": [
    "channel_code_mapping = {\"X1\": 0, \"X2\": 1, \"X3\": 2, \"X4\": 3}\n",
    "for dataset in train_test_data:\n",
    "    dataset['Channel_Code'] = dataset['Channel_Code'].map(channel_code_mapping)"
   ]
  },
  {
   "cell_type": "markdown",
   "metadata": {},
   "source": [
    "#### 4.4 Is Active\n",
    "Credit Product Mapping [No: 0, Yes: 1]"
   ]
  },
  {
   "cell_type": "code",
   "execution_count": null,
   "metadata": {},
   "outputs": [],
   "source": [
    "is_active_mapping = {\"No\": 0, \"Yes\": 1}\n",
    "for dataset in train_test_data:\n",
    "    dataset['Is_Active'] = dataset['Is_Active'].map(is_active_mapping)"
   ]
  },
  {
   "cell_type": "markdown",
   "metadata": {},
   "source": [
    "#### 4.5 Age"
   ]
  },
  {
   "cell_type": "code",
   "execution_count": null,
   "metadata": {},
   "outputs": [],
   "source": [
    "print(\"Maximum Age: {}\".format(train[\"Age\"].max()))\n",
    "print(\"Minimum Age: {}\".format(train[\"Age\"].min()))"
   ]
  },
  {
   "cell_type": "code",
   "execution_count": null,
   "metadata": {},
   "outputs": [],
   "source": [
    "facet = sns.FacetGrid(train, hue=\"Is_Lead\",aspect=4)\n",
    "facet.map(sns.kdeplot,'Age',shade= True)\n",
    "facet.set(xlim=(0, train['Age'].max()))\n",
    "facet.add_legend()\n",
    "plt.show() "
   ]
  },
  {
   "cell_type": "markdown",
   "metadata": {},
   "source": [
    "According the the age distribution with respect to the \"Is Lead\" attribute, there are several cross over points.\n"
   ]
  },
  {
   "cell_type": "code",
   "execution_count": null,
   "metadata": {},
   "outputs": [],
   "source": [
    "facet = sns.FacetGrid(train, hue=\"Is_Lead\",aspect=4)\n",
    "facet.map(sns.kdeplot,'Age',shade= True)\n",
    "facet.set(xlim=(0, train['Age'].max()))\n",
    "facet.add_legend()\n",
    "plt.xlim(20, 40)"
   ]
  },
  {
   "cell_type": "code",
   "execution_count": null,
   "metadata": {},
   "outputs": [],
   "source": [
    "facet = sns.FacetGrid(train, hue=\"Is_Lead\",aspect=4)\n",
    "facet.map(sns.kdeplot,'Age',shade= True)\n",
    "facet.set(xlim=(0, train['Age'].max()))\n",
    "facet.add_legend()\n",
    "plt.xlim(35, 70)"
   ]
  },
  {
   "cell_type": "code",
   "execution_count": null,
   "metadata": {},
   "outputs": [],
   "source": [
    "facet = sns.FacetGrid(train, hue=\"Is_Lead\",aspect=4)\n",
    "facet.map(sns.kdeplot,'Age',shade= True)\n",
    "facet.set(xlim=(0, train['Age'].max()))\n",
    "facet.add_legend()\n",
    "plt.xlim(70, 85)"
   ]
  },
  {
   "cell_type": "markdown",
   "metadata": {},
   "source": [
    "#### 4.5.1 Binning - Age\n",
    "Binning/Converting Numerical Age to Categorical Variable\n",
    "\n",
    "Feature vector map\n",
    "\n",
    "Under 37 years old:           0\n",
    "\n",
    "More the 37 and less than 70: 1\n",
    "\n",
    "Greater than 70:              2\n"
   ]
  },
  {
   "cell_type": "code",
   "execution_count": null,
   "metadata": {},
   "outputs": [],
   "source": [
    "for dataset in train_test_data:\n",
    "    dataset.loc[ dataset['Age'] <= 37, 'Age'] = 0,\n",
    "    dataset.loc[(dataset['Age'] > 37) & (dataset['Age'] <= 70), 'Age'] = 1,\n",
    "    dataset.loc[ dataset['Age'] > 70, 'Age'] = 2"
   ]
  },
  {
   "cell_type": "markdown",
   "metadata": {},
   "source": [
    "#### 4.6 Vintage"
   ]
  },
  {
   "cell_type": "code",
   "execution_count": null,
   "metadata": {},
   "outputs": [],
   "source": [
    "print(\"Maximum vintage in months: {}\".format(train[\"Vintage\"].max()))\n",
    "print(\"Minimum vintage in months: {}\".format(train[\"Vintage\"].min()))"
   ]
  },
  {
   "cell_type": "code",
   "execution_count": null,
   "metadata": {},
   "outputs": [],
   "source": [
    "facet = sns.FacetGrid(train, hue=\"Is_Lead\",aspect=4)\n",
    "facet.map(sns.kdeplot,'Vintage',shade= True)\n",
    "facet.set(xlim=(0, train['Vintage'].max()))\n",
    "facet.add_legend()\n",
    "plt.show() "
   ]
  },
  {
   "cell_type": "markdown",
   "metadata": {},
   "source": [
    "Observing cross over points in the vintage vs is_lead attribute"
   ]
  },
  {
   "cell_type": "code",
   "execution_count": null,
   "metadata": {},
   "outputs": [],
   "source": [
    "facet = sns.FacetGrid(train, hue=\"Is_Lead\",aspect=4)\n",
    "facet.map(sns.kdeplot,'Vintage',shade= True)\n",
    "facet.set(xlim=(0, train['Vintage'].max()))\n",
    "facet.add_legend()\n",
    "plt.xlim(0, 10)"
   ]
  },
  {
   "cell_type": "code",
   "execution_count": null,
   "metadata": {},
   "outputs": [],
   "source": [
    "facet = sns.FacetGrid(train, hue=\"Is_Lead\",aspect=4)\n",
    "facet.map(sns.kdeplot,'Vintage',shade= True)\n",
    "facet.set(xlim=(0, train['Vintage'].max()))\n",
    "facet.add_legend()\n",
    "plt.xlim(7, 65)"
   ]
  },
  {
   "cell_type": "code",
   "execution_count": null,
   "metadata": {},
   "outputs": [],
   "source": [
    "facet = sns.FacetGrid(train, hue=\"Is_Lead\",aspect=4)\n",
    "facet.map(sns.kdeplot,'Vintage',shade= True)\n",
    "facet.set(xlim=(0, train['Vintage'].max()))\n",
    "facet.add_legend()\n",
    "plt.xlim(60, 135)"
   ]
  },
  {
   "cell_type": "markdown",
   "metadata": {},
   "source": [
    "#### 4.6.1 Binning - Vintage\n",
    "Binning/Converting Numerical Vintage to Categorical Variable\n",
    "\n",
    "Feature vector map\n",
    "\n",
    "Under 8 months old: 0\n",
    "\n",
    "More the 8 and less than 62 months: 1\n",
    "\n",
    "Greater than 62: 2"
   ]
  },
  {
   "cell_type": "code",
   "execution_count": null,
   "metadata": {},
   "outputs": [],
   "source": [
    "for dataset in train_test_data:\n",
    "    dataset.loc[ dataset['Vintage'] <= 8, 'Vintage'] = 0,\n",
    "    dataset.loc[(dataset['Vintage'] > 8) & (dataset['Vintage'] <= 62), 'Vintage'] = 1,\n",
    "    dataset.loc[ dataset['Vintage'] > 62, 'Vintage'] = 2"
   ]
  },
  {
   "cell_type": "markdown",
   "metadata": {},
   "source": [
    "#### 4.7 Average Account Banlance"
   ]
  },
  {
   "cell_type": "code",
   "execution_count": null,
   "metadata": {},
   "outputs": [],
   "source": [
    "print(\"Maximum average account balance: {}\".format(train[\"Avg_Account_Balance\"].max()))\n",
    "print(\"Minimum average account balance: {}\".format(train[\"Avg_Account_Balance\"].min()))"
   ]
  },
  {
   "cell_type": "code",
   "execution_count": null,
   "metadata": {},
   "outputs": [],
   "source": [
    "facet = sns.FacetGrid(train, hue=\"Is_Lead\",aspect=4)\n",
    "facet.map(sns.kdeplot,'Avg_Account_Balance',shade= True)\n",
    "facet.set(xlim=(0, train['Avg_Account_Balance'].max()))\n",
    "facet.add_legend()\n",
    "plt.show()"
   ]
  },
  {
   "cell_type": "code",
   "execution_count": null,
   "metadata": {},
   "outputs": [],
   "source": [
    "facet = sns.FacetGrid(train, hue=\"Is_Lead\",aspect=4)\n",
    "facet.map(sns.kdeplot,'Avg_Account_Balance',shade= True)\n",
    "facet.set(xlim=(0, train['Avg_Account_Balance'].max()))\n",
    "facet.add_legend()\n",
    "plt.xlim(0, 1000000)"
   ]
  },
  {
   "cell_type": "code",
   "execution_count": null,
   "metadata": {},
   "outputs": [],
   "source": [
    "facet = sns.FacetGrid(train, hue=\"Is_Lead\",aspect=4)\n",
    "facet.map(sns.kdeplot,'Avg_Account_Balance',shade= True)\n",
    "facet.set(xlim=(0, train['Avg_Account_Balance'].max()))\n",
    "facet.add_legend()\n",
    "plt.xlim(1000000, 3000000)"
   ]
  },
  {
   "cell_type": "markdown",
   "metadata": {},
   "source": [
    "#### 4.8.1 Binning - Average Account Balance\n",
    "Binning/Converting Numerical Average Account Balance to Categorical Variable\n",
    "\n",
    "Feature vector map\n",
    "\n",
    "Under 1000000 : 0\n",
    "\n",
    "More the 1000000 and less than 3000000 months: 1\n",
    "\n",
    "Greater than 3000000: 2"
   ]
  },
  {
   "cell_type": "code",
   "execution_count": null,
   "metadata": {},
   "outputs": [],
   "source": [
    "for dataset in train_test_data:\n",
    "    dataset.loc[ dataset['Avg_Account_Balance'] <= 1000000, 'Avg_Account_Balance'] = 0,\n",
    "    dataset.loc[(dataset['Avg_Account_Balance'] > 1000000) & (dataset['Vintage'] <= 3000000), 'Avg_Account_Balance'] = 1,\n",
    "    dataset.loc[ dataset['Avg_Account_Balance'] > 3000000, 'Avg_Account_Balance'] = 2"
   ]
  },
  {
   "cell_type": "code",
   "execution_count": null,
   "metadata": {},
   "outputs": [],
   "source": [
    "train.head(40)"
   ]
  },
  {
   "cell_type": "markdown",
   "metadata": {},
   "source": [
    "#### 4.9 Region Code"
   ]
  },
  {
   "cell_type": "code",
   "execution_count": null,
   "metadata": {},
   "outputs": [],
   "source": [
    "train[\"Region_Code\"].value_counts()"
   ]
  },
  {
   "cell_type": "code",
   "execution_count": null,
   "metadata": {},
   "outputs": [],
   "source": [
    "region_code_mapping = {\"RG268\": 0, \"RG283\": 1, \"RG254\": 1,\n",
    "                 \"RG284\": 1, \"RG277\": 2, \"RG280\": 2,\n",
    "                 \"RG269\": 3, \"RG270\": 3, \"RG261\": 3,\n",
    "                 \"RG257\": 3, \"RG251\": 3, \"RG282\": 3,     \n",
    "                 \"RG274\": 3, \"RG272\": 3, \"RG281\": 3,\n",
    "                 \"RG273\": 3, \"RG252\": 3, \"RG279\": 3,\n",
    "                 \"RG263\": 3, \"RG275\": 3,    \"RG260\": 3,\n",
    "                 \"RG256\": 3,    \"RG264\": 3,    \"RG276\": 3,    \n",
    "                 \"RG259\": 3,    \"RG250\": 3,    \"RG255\": 3,    \n",
    "                 \"RG258\": 3,    \"RG253\": 3,    \"RG278\": 3,    \n",
    "                 \"RG262\": 3,    \"RG266\": 3,    \"RG265\": 3, \n",
    "                 \"RG271\": 3,    \"RG267\": 3}"
   ]
  },
  {
   "cell_type": "code",
   "execution_count": null,
   "metadata": {},
   "outputs": [],
   "source": [
    "for dataset in train_test_data:\n",
    "    dataset['Region'] = dataset['Region_Code'].map(region_code_mapping)\n",
    "    \n",
    "train.drop(\"Region_Code\",axis=1,inplace=True)\n",
    "test.drop(\"Region_Code\",axis=1,inplace=True)"
   ]
  },
  {
   "cell_type": "markdown",
   "metadata": {},
   "source": [
    "#### 4.10 Credit Product"
   ]
  },
  {
   "cell_type": "code",
   "execution_count": null,
   "metadata": {},
   "outputs": [],
   "source": [
    "Pclass1 = train[train['Avg_Account_Balance']==0]['Credit_Product'].value_counts()\n",
    "Pclass2 = train[train['Avg_Account_Balance']==1]['Credit_Product'].value_counts()\n",
    "Pclass3 = train[train['Avg_Account_Balance']==2]['Credit_Product'].value_counts()\n",
    "df = pd.DataFrame([Pclass1, Pclass2, Pclass3])\n",
    "df.index = ['Under 1^e6','betn 1^e6 & 3^e6', '> 3^e6']\n",
    "df.plot(kind='bar',stacked=True, figsize=(10,5))"
   ]
  },
  {
   "cell_type": "markdown",
   "metadata": {},
   "source": [
    "Since more the 50% under diffent average account brackets do not have credit product, fill out missing credit procut with \"No\" "
   ]
  },
  {
   "cell_type": "code",
   "execution_count": null,
   "metadata": {},
   "outputs": [],
   "source": [
    "for dataset in train_test_data:\n",
    "    dataset['Credit_Product'] = dataset['Credit_Product'].fillna('No')"
   ]
  },
  {
   "cell_type": "code",
   "execution_count": null,
   "metadata": {},
   "outputs": [],
   "source": [
    "credit_product_mapping = {\"No\": 0, \"Yes\": 1}\n",
    "for dataset in train_test_data:\n",
    "    dataset['Credit_Product'] = dataset['Credit_Product'].map(credit_product_mapping)"
   ]
  },
  {
   "cell_type": "code",
   "execution_count": null,
   "metadata": {},
   "outputs": [],
   "source": [
    "train.head(50)"
   ]
  },
  {
   "cell_type": "code",
   "execution_count": null,
   "metadata": {},
   "outputs": [],
   "source": [
    "train_data = train.drop(['Is_Lead','ID'], axis=1)\n",
    "target = train['Is_Lead']\n",
    "\n",
    "train_data.shape, target.shape"
   ]
  },
  {
   "cell_type": "code",
   "execution_count": null,
   "metadata": {},
   "outputs": [],
   "source": [
    "# train_data.info()\n",
    "train.isnull().sum()"
   ]
  },
  {
   "cell_type": "markdown",
   "metadata": {},
   "source": [
    "#### 5. Modelling"
   ]
  },
  {
   "cell_type": "code",
   "execution_count": null,
   "metadata": {},
   "outputs": [],
   "source": [
    "from sklearn.svm import SVC\n",
    "from sklearn.model_selection import KFold\n",
    "from sklearn.model_selection import cross_val_score\n",
    "import numpy as np"
   ]
  },
  {
   "cell_type": "code",
   "execution_count": null,
   "metadata": {},
   "outputs": [],
   "source": [
    "k_fold = KFold(n_splits=10, shuffle=True, random_state=0)\n",
    "clf = SVC()\n",
    "scoring = 'accuracy'\n",
    "score = cross_val_score(clf, train_data, target, cv=k_fold, n_jobs=1, scoring=scoring)\n",
    "print(score)"
   ]
  },
  {
   "cell_type": "code",
   "execution_count": null,
   "metadata": {},
   "outputs": [],
   "source": [
    "round(np.mean(score)*100,2)"
   ]
  }
 ],
 "metadata": {
  "kernelspec": {
   "display_name": "Python 3",
   "language": "python",
   "name": "python3"
  },
  "language_info": {
   "codemirror_mode": {
    "name": "ipython",
    "version": 3
   },
   "file_extension": ".py",
   "mimetype": "text/x-python",
   "name": "python",
   "nbconvert_exporter": "python",
   "pygments_lexer": "ipython3",
   "version": "3.7.4"
  }
 },
 "nbformat": 4,
 "nbformat_minor": 2
}
